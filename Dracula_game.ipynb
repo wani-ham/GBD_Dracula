{
 "cells": [
  {
   "cell_type": "code",
   "execution_count": 1,
   "metadata": {},
   "outputs": [
    {
     "name": "stdout",
     "output_type": "stream",
     "text": [
      "pygame 1.9.6\n",
      "Hello from the pygame community. https://www.pygame.org/contribute.html\n"
     ]
    }
   ],
   "source": [
    "import pygame\n",
    "\n",
    "BLACK = (0, 0, 0)\n",
    "pad_width = 1024\n",
    "pad_height = 600"
   ]
  },
  {
   "cell_type": "code",
   "execution_count": 2,
   "metadata": {},
   "outputs": [],
   "source": [
    "def back(x, y):\n",
    "    global gamepad, background\n",
    "    gamepad.blit(background, (x, y))"
   ]
  },
  {
   "cell_type": "code",
   "execution_count": 3,
   "metadata": {},
   "outputs": [],
   "source": [
    "def horses(x, y):\n",
    "    global gamepad, horse\n",
    "    gamepad.blit(horse, (x, y))"
   ]
  },
  {
   "cell_type": "code",
   "execution_count": 4,
   "metadata": {},
   "outputs": [],
   "source": [
    "def darkness(x, y):\n",
    "    global gamepad, dark\n",
    "    gamepad.blit(dark, (x, y))"
   ]
  },
  {
   "cell_type": "code",
   "execution_count": 5,
   "metadata": {},
   "outputs": [],
   "source": [
    "def runGame():\n",
    "    global gamepad, horse, clock, background, dark, walking\n",
    "    x = -1300\n",
    "    y = -650\n",
    "    y_change = 0\n",
    "    x_change = 0\n",
    "    pygame.mixer.music.load(\"Dracula_theme.mp3\")\n",
    "    pygame.mixer.music.play(-1)\n",
    "    \n",
    "    \n",
    "    cnt = True\n",
    "    while cnt:\n",
    "        for event in pygame.event.get():\n",
    "            if event.type == pygame.QUIT:\n",
    "                cnt = False\n",
    "            \n",
    "            if event.type == pygame.KEYDOWN:\n",
    "                pygame.mixer.Sound.play(walking)\n",
    "                if event.key == pygame.K_DOWN:\n",
    "                    y_change =- 7\n",
    "                elif event.key == pygame.K_UP:\n",
    "                    y_change = 7\n",
    "                elif event.key == pygame.K_LEFT:\n",
    "                    x_change = 7\n",
    "                elif event.key == pygame.K_RIGHT:\n",
    "                    x_change =- 7\n",
    "            if event.type == pygame.KEYUP:\n",
    "                pygame.mixer.Sound.stop(walking)\n",
    "                if event.key == pygame.K_UP or event.key == pygame.K_DOWN or event.key == pygame.K_LEFT or event.key == pygame.K_RIGHT:\n",
    "                    y_change = 0\n",
    "                    x_change = 0\n",
    "        y += y_change\n",
    "        x += x_change        \n",
    "        \n",
    "        gamepad.fill(BLACK)\n",
    "        back(x, y)\n",
    "        horses(400, 90)\n",
    "        darkness(-525, -700)\n",
    "        \n",
    "        pygame.display.update()\n",
    "        clock.tick(60)\n",
    "    \n",
    "    pygame.quit()\n",
    "    quit()"
   ]
  },
  {
   "cell_type": "code",
   "execution_count": 6,
   "metadata": {},
   "outputs": [],
   "source": [
    "def initGame():\n",
    "    global gamepad, horse, clock, background, dark, walking\n",
    "    \n",
    "    pygame.init()\n",
    "    gamepad = pygame.display.set_mode((pad_width, pad_height))\n",
    "    pygame.display.set_caption('Who am I? (feat. Dracula) _ Made by MBTMI')\n",
    "    horse = pygame.image.load('horse.png')\n",
    "    background = pygame.image.load('map.jpg')\n",
    "    dark = pygame.image.load('dark.png')\n",
    "    walking = pygame.mixer.Sound(\"walking.wav\")\n",
    "    clock = pygame.time.Clock()\n",
    "    runGame()"
   ]
  },
  {
   "cell_type": "code",
   "execution_count": 7,
   "metadata": {},
   "outputs": [],
   "source": [
    "import sys\n",
    "import os\n",
    "\n",
    "def resource_path(relative_path):\n",
    "    try:\n",
    "    # PyInstaller creates a temp folder and stores path in _MEIPASS\n",
    "        base_path = sys._MEIPASS\n",
    "    except Exception:\n",
    "        base_path = os.path.abspath(\".\")\n",
    "\n",
    "    return os.path.join(base_path, relative_path)"
   ]
  },
  {
   "cell_type": "code",
   "execution_count": 8,
   "metadata": {},
   "outputs": [],
   "source": [
    "initGame()"
   ]
  },
  {
   "cell_type": "code",
   "execution_count": null,
   "metadata": {},
   "outputs": [],
   "source": []
  }
 ],
 "metadata": {
  "kernelspec": {
   "display_name": "Python 3",
   "language": "python",
   "name": "python3"
  },
  "language_info": {
   "codemirror_mode": {
    "name": "ipython",
    "version": 3
   },
   "file_extension": ".py",
   "mimetype": "text/x-python",
   "name": "python",
   "nbconvert_exporter": "python",
   "pygments_lexer": "ipython3",
   "version": "3.7.6"
  }
 },
 "nbformat": 4,
 "nbformat_minor": 4
}
